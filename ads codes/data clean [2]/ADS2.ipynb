{
  "nbformat": 4,
  "nbformat_minor": 0,
  "metadata": {
    "colab": {
      "provenance": []
    },
    "kernelspec": {
      "name": "python3",
      "display_name": "Python 3"
    },
    "language_info": {
      "name": "python"
    }
  },
  "cells": [
    {
      "cell_type": "code",
      "execution_count": null,
      "metadata": {
        "id": "GSmoigkAr5GG"
      },
      "outputs": [],
      "source": [
        "import pandas as pd\n",
        "import numpy as np\n",
        "import matplotlib.pyplot as plt\n",
        "import seaborn as sns\n",
        "from sklearn.impute import SimpleImputer\n",
        "from sklearn.preprocessing import LabelEncoder, StandardScaler\n",
        "from scipy.stats import skew, kurtosis\n",
        "df = pd.read_csv('datacleaning.csv')"
      ]
    },
    {
      "cell_type": "code",
      "source": [
        "print(\"Initial Data:\")\n",
        "print(df.info())\n",
        "print(df.head(11))"
      ],
      "metadata": {
        "colab": {
          "base_uri": "https://localhost:8080/"
        },
        "id": "M32NEdIrspsl",
        "outputId": "6684f40b-4299-4a5c-afae-cb8ac3e795e4"
      },
      "execution_count": null,
      "outputs": [
        {
          "output_type": "stream",
          "name": "stdout",
          "text": [
            "Initial Data:\n",
            "<class 'pandas.core.frame.DataFrame'>\n",
            "RangeIndex: 11 entries, 0 to 10\n",
            "Data columns (total 7 columns):\n",
            " #   Column        Non-Null Count  Dtype  \n",
            "---  ------        --------------  -----  \n",
            " 0   ID            11 non-null     int64  \n",
            " 1   Name          10 non-null     object \n",
            " 2   Age           10 non-null     float64\n",
            " 3   Gender        11 non-null     object \n",
            " 4   Salary        10 non-null     float64\n",
            " 5   Joining_Date  10 non-null     object \n",
            " 6   Department    11 non-null     object \n",
            "dtypes: float64(2), int64(1), object(4)\n",
            "memory usage: 748.0+ bytes\n",
            "None\n",
            "    ID     Name   Age   Gender   Salary Joining_Date Department\n",
            "0    1    Alice  25.0   Female  50000.0   2021-06-01         HR\n",
            "1    2      Bob  30.0     Male  60000.0   2020-07-15         IT\n",
            "2    3  Charlie   NaN        M  70000.0   2019/08/20         HR\n",
            "3    4    David  40.0     Male      NaN   2022-05-30    Finance\n",
            "4    5      Eve  22.0   Female  55000.0   01-01-2018         IT\n",
            "5    6    Frank  35.0        F  72000.0   2017-03-22         IT\n",
            "6    6    Frank  35.0     Male  72000.0   2017-03-22         IT\n",
            "7    7    Grace  29.0        F  49000.0          NaN         HR\n",
            "8    8    Henry  50.0     Male  80000.0   2016-12-11    Finance\n",
            "9    9      NaN  31.0  Unknown  57000.0   2023-02-05    Unknown\n",
            "10  10      Ivy  -5.0   Female  52000.0   2015-09-27         HR\n"
          ]
        }
      ]
    },
    {
      "cell_type": "code",
      "source": [
        "# Handling missing values\n",
        "num_imputer = SimpleImputer(strategy=\"mean\")  # For numerical columns\n",
        "cat_imputer = SimpleImputer(strategy=\"most_frequent\")  # For categorical columns"
      ],
      "metadata": {
        "id": "BJwp82mqtnv1"
      },
      "execution_count": null,
      "outputs": []
    },
    {
      "cell_type": "code",
      "source": [
        "for col in df.select_dtypes(include=['number']).columns:\n",
        "    df[col] = num_imputer.fit_transform(df[[col]])\n",
        "for col in df.select_dtypes(include=['object']).columns:\n",
        "    # Use df[col] to get a Series instead of df[[col]] to get a DataFrame\n",
        "    df[col] = cat_imputer.fit_transform(df[col].values.reshape(-1, 1))[:, 0]"
      ],
      "metadata": {
        "id": "zETPVeFEtygM"
      },
      "execution_count": null,
      "outputs": []
    },
    {
      "cell_type": "code",
      "source": [
        "\n",
        "# Display data after handling missing values\n",
        "print(\"\\nData after handling missing values:\")\n",
        "print(df.info())\n",
        "print(df.head(11))\n"
      ],
      "metadata": {
        "colab": {
          "base_uri": "https://localhost:8080/"
        },
        "id": "Q87Fdkr1uUiF",
        "outputId": "2696b2d4-baa9-4d9f-acaf-261f1ae9d273"
      },
      "execution_count": null,
      "outputs": [
        {
          "output_type": "stream",
          "name": "stdout",
          "text": [
            "\n",
            "Data after handling missing values:\n",
            "<class 'pandas.core.frame.DataFrame'>\n",
            "RangeIndex: 11 entries, 0 to 10\n",
            "Data columns (total 7 columns):\n",
            " #   Column        Non-Null Count  Dtype  \n",
            "---  ------        --------------  -----  \n",
            " 0   ID            11 non-null     float64\n",
            " 1   Name          11 non-null     object \n",
            " 2   Age           11 non-null     float64\n",
            " 3   Gender        11 non-null     object \n",
            " 4   Salary        11 non-null     float64\n",
            " 5   Joining_Date  11 non-null     object \n",
            " 6   Department    11 non-null     object \n",
            "dtypes: float64(3), object(4)\n",
            "memory usage: 748.0+ bytes\n",
            "None\n",
            "      ID     Name   Age   Gender   Salary Joining_Date Department\n",
            "0    1.0    Alice  25.0   Female  50000.0   2021-06-01         HR\n",
            "1    2.0      Bob  30.0     Male  60000.0   2020-07-15         IT\n",
            "2    3.0  Charlie  29.2        M  70000.0   2019/08/20         HR\n",
            "3    4.0    David  40.0     Male  61700.0   2022-05-30    Finance\n",
            "4    5.0      Eve  22.0   Female  55000.0   01-01-2018         IT\n",
            "5    6.0    Frank  35.0        F  72000.0   2017-03-22         IT\n",
            "6    6.0    Frank  35.0     Male  72000.0   2017-03-22         IT\n",
            "7    7.0    Grace  29.0        F  49000.0   2017-03-22         HR\n",
            "8    8.0    Henry  50.0     Male  80000.0   2016-12-11    Finance\n",
            "9    9.0    Frank  31.0  Unknown  57000.0   2023-02-05    Unknown\n",
            "10  10.0      Ivy  -5.0   Female  52000.0   2015-09-27         HR\n"
          ]
        }
      ]
    },
    {
      "cell_type": "code",
      "source": [
        "df.drop_duplicates(inplace=True)\n"
      ],
      "metadata": {
        "id": "12UzAef7ui-8"
      },
      "execution_count": null,
      "outputs": []
    },
    {
      "cell_type": "code",
      "source": [
        "print(\"\\nData after removing duplicates:\")\n",
        "print(df.info())\n",
        "print(df.head(11))\n"
      ],
      "metadata": {
        "colab": {
          "base_uri": "https://localhost:8080/"
        },
        "id": "H4jtkCLGw_GO",
        "outputId": "5b4623d3-03af-4cb2-ab5a-b1f4cff386aa"
      },
      "execution_count": null,
      "outputs": [
        {
          "output_type": "stream",
          "name": "stdout",
          "text": [
            "\n",
            "Data after removing duplicates:\n",
            "<class 'pandas.core.frame.DataFrame'>\n",
            "RangeIndex: 11 entries, 0 to 10\n",
            "Data columns (total 7 columns):\n",
            " #   Column        Non-Null Count  Dtype  \n",
            "---  ------        --------------  -----  \n",
            " 0   ID            11 non-null     float64\n",
            " 1   Name          11 non-null     object \n",
            " 2   Age           11 non-null     float64\n",
            " 3   Gender        11 non-null     object \n",
            " 4   Salary        11 non-null     float64\n",
            " 5   Joining_Date  11 non-null     object \n",
            " 6   Department    11 non-null     object \n",
            "dtypes: float64(3), object(4)\n",
            "memory usage: 748.0+ bytes\n",
            "None\n",
            "      ID     Name   Age   Gender   Salary Joining_Date Department\n",
            "0    1.0    Alice  25.0   Female  50000.0   2021-06-01         HR\n",
            "1    2.0      Bob  30.0     Male  60000.0   2020-07-15         IT\n",
            "2    3.0  Charlie  29.2        M  70000.0   2019/08/20         HR\n",
            "3    4.0    David  40.0     Male  61700.0   2022-05-30    Finance\n",
            "4    5.0      Eve  22.0   Female  55000.0   01-01-2018         IT\n",
            "5    6.0    Frank  35.0        F  72000.0   2017-03-22         IT\n",
            "6    6.0    Frank  35.0     Male  72000.0   2017-03-22         IT\n",
            "7    7.0    Grace  29.0        F  49000.0   2017-03-22         HR\n",
            "8    8.0    Henry  50.0     Male  80000.0   2016-12-11    Finance\n",
            "9    9.0    Frank  31.0  Unknown  57000.0   2023-02-05    Unknown\n",
            "10  10.0      Ivy  -5.0   Female  52000.0   2015-09-27         HR\n"
          ]
        }
      ]
    },
    {
      "cell_type": "code",
      "source": [
        "# Handling outliers using IQR for numerical features only\n",
        "numerical_cols = df.select_dtypes(include=['number']).columns\n",
        "\n",
        "Q1 = df[numerical_cols].quantile(0.25)\n",
        "Q3 = df[numerical_cols].quantile(0.75)\n",
        "IQR = Q3 - Q1\n",
        "lower_bound = Q1 - 1.5 * IQR\n",
        "upper_bound = Q3 + 1.5 * IQR\n",
        "\n",
        "# Filter outliers only for numerical features\n",
        "df = df[~((df[numerical_cols] < lower_bound) | (df[numerical_cols] > upper_bound)).any(axis=1)]"
      ],
      "metadata": {
        "id": "kEY257rmxDu9"
      },
      "execution_count": null,
      "outputs": []
    },
    {
      "cell_type": "code",
      "source": [
        "print(\"\\nData after handling outliers:\")\n",
        "print(df.info())\n",
        "print(df.head(11))"
      ],
      "metadata": {
        "colab": {
          "base_uri": "https://localhost:8080/"
        },
        "id": "4cWH3p1RxSIF",
        "outputId": "91762c93-31d2-4f66-abe5-f6c0debc5ab6"
      },
      "execution_count": null,
      "outputs": [
        {
          "output_type": "stream",
          "name": "stdout",
          "text": [
            "\n",
            "Data after handling outliers:\n",
            "<class 'pandas.core.frame.DataFrame'>\n",
            "Index: 9 entries, 0 to 9\n",
            "Data columns (total 7 columns):\n",
            " #   Column        Non-Null Count  Dtype  \n",
            "---  ------        --------------  -----  \n",
            " 0   ID            9 non-null      float64\n",
            " 1   Name          9 non-null      object \n",
            " 2   Age           9 non-null      float64\n",
            " 3   Gender        9 non-null      object \n",
            " 4   Salary        9 non-null      float64\n",
            " 5   Joining_Date  9 non-null      object \n",
            " 6   Department    9 non-null      object \n",
            "dtypes: float64(3), object(4)\n",
            "memory usage: 576.0+ bytes\n",
            "None\n",
            "    ID     Name   Age   Gender   Salary Joining_Date Department\n",
            "0  1.0    Alice  25.0   Female  50000.0   2021-06-01         HR\n",
            "1  2.0      Bob  30.0     Male  60000.0   2020-07-15         IT\n",
            "2  3.0  Charlie  29.2        M  70000.0   2019/08/20         HR\n",
            "3  4.0    David  40.0     Male  61700.0   2022-05-30    Finance\n",
            "4  5.0      Eve  22.0   Female  55000.0   01-01-2018         IT\n",
            "5  6.0    Frank  35.0        F  72000.0   2017-03-22         IT\n",
            "6  6.0    Frank  35.0     Male  72000.0   2017-03-22         IT\n",
            "7  7.0    Grace  29.0        F  49000.0   2017-03-22         HR\n",
            "9  9.0    Frank  31.0  Unknown  57000.0   2023-02-05    Unknown\n"
          ]
        }
      ]
    },
    {
      "cell_type": "code",
      "source": [
        "encoder = LabelEncoder()\n",
        "for col in df.select_dtypes(include=['object']).columns:\n",
        "    df[col] = encoder.fit_transform(df[col])"
      ],
      "metadata": {
        "colab": {
          "base_uri": "https://localhost:8080/"
        },
        "id": "Zl7bbmaaxVH9",
        "outputId": "1ba958b1-8fff-4800-ec07-68ea8902019d"
      },
      "execution_count": null,
      "outputs": [
        {
          "output_type": "stream",
          "name": "stderr",
          "text": [
            "<ipython-input-20-f9967e25ad4d>:3: SettingWithCopyWarning: \n",
            "A value is trying to be set on a copy of a slice from a DataFrame.\n",
            "Try using .loc[row_indexer,col_indexer] = value instead\n",
            "\n",
            "See the caveats in the documentation: https://pandas.pydata.org/pandas-docs/stable/user_guide/indexing.html#returning-a-view-versus-a-copy\n",
            "  df[col] = encoder.fit_transform(df[col])\n",
            "<ipython-input-20-f9967e25ad4d>:3: SettingWithCopyWarning: \n",
            "A value is trying to be set on a copy of a slice from a DataFrame.\n",
            "Try using .loc[row_indexer,col_indexer] = value instead\n",
            "\n",
            "See the caveats in the documentation: https://pandas.pydata.org/pandas-docs/stable/user_guide/indexing.html#returning-a-view-versus-a-copy\n",
            "  df[col] = encoder.fit_transform(df[col])\n",
            "<ipython-input-20-f9967e25ad4d>:3: SettingWithCopyWarning: \n",
            "A value is trying to be set on a copy of a slice from a DataFrame.\n",
            "Try using .loc[row_indexer,col_indexer] = value instead\n",
            "\n",
            "See the caveats in the documentation: https://pandas.pydata.org/pandas-docs/stable/user_guide/indexing.html#returning-a-view-versus-a-copy\n",
            "  df[col] = encoder.fit_transform(df[col])\n",
            "<ipython-input-20-f9967e25ad4d>:3: SettingWithCopyWarning: \n",
            "A value is trying to be set on a copy of a slice from a DataFrame.\n",
            "Try using .loc[row_indexer,col_indexer] = value instead\n",
            "\n",
            "See the caveats in the documentation: https://pandas.pydata.org/pandas-docs/stable/user_guide/indexing.html#returning-a-view-versus-a-copy\n",
            "  df[col] = encoder.fit_transform(df[col])\n"
          ]
        }
      ]
    },
    {
      "cell_type": "code",
      "source": [
        "print(\"\\nData after encoding categorical variables:\")\n",
        "print(df.info())\n",
        "print(df.head(11))"
      ],
      "metadata": {
        "colab": {
          "base_uri": "https://localhost:8080/"
        },
        "id": "Q3q8yPYixwht",
        "outputId": "c62b78de-a698-4311-ac3c-73e71fafa9be"
      },
      "execution_count": null,
      "outputs": [
        {
          "output_type": "stream",
          "name": "stdout",
          "text": [
            "\n",
            "Data after encoding categorical variables:\n",
            "<class 'pandas.core.frame.DataFrame'>\n",
            "Index: 9 entries, 0 to 9\n",
            "Data columns (total 7 columns):\n",
            " #   Column        Non-Null Count  Dtype  \n",
            "---  ------        --------------  -----  \n",
            " 0   ID            9 non-null      float64\n",
            " 1   Name          9 non-null      int64  \n",
            " 2   Age           9 non-null      float64\n",
            " 3   Gender        9 non-null      int64  \n",
            " 4   Salary        9 non-null      float64\n",
            " 5   Joining_Date  9 non-null      int64  \n",
            " 6   Department    9 non-null      int64  \n",
            "dtypes: float64(3), int64(4)\n",
            "memory usage: 576.0 bytes\n",
            "None\n",
            "    ID  Name   Age  Gender   Salary  Joining_Date  Department\n",
            "0  1.0     0  25.0       1  50000.0             4           1\n",
            "1  2.0     1  30.0       3  60000.0             3           2\n",
            "2  3.0     2  29.2       2  70000.0             2           1\n",
            "3  4.0     3  40.0       3  61700.0             5           0\n",
            "4  5.0     4  22.0       1  55000.0             0           2\n",
            "5  6.0     5  35.0       0  72000.0             1           2\n",
            "6  6.0     5  35.0       3  72000.0             1           2\n",
            "7  7.0     6  29.0       0  49000.0             1           1\n",
            "9  9.0     5  31.0       4  57000.0             6           3\n"
          ]
        }
      ]
    },
    {
      "cell_type": "code",
      "source": [
        "if 'joining date' in df.columns:\n",
        "    df['joining date'] = pd.to_datetime(df['joining date'], errors='coerce')"
      ],
      "metadata": {
        "id": "F3kOtkxwx6PN"
      },
      "execution_count": null,
      "outputs": []
    },
    {
      "cell_type": "code",
      "source": [
        "print(\"\\nFinal cleaned data:\")\n",
        "print(df.info())\n",
        "print(df.head(11))"
      ],
      "metadata": {
        "colab": {
          "base_uri": "https://localhost:8080/"
        },
        "id": "pDopLez0x_eN",
        "outputId": "643951e7-9257-4566-d6bd-f022c53cc79e"
      },
      "execution_count": null,
      "outputs": [
        {
          "output_type": "stream",
          "name": "stdout",
          "text": [
            "\n",
            "Final cleaned data:\n",
            "<class 'pandas.core.frame.DataFrame'>\n",
            "Index: 9 entries, 0 to 9\n",
            "Data columns (total 7 columns):\n",
            " #   Column        Non-Null Count  Dtype  \n",
            "---  ------        --------------  -----  \n",
            " 0   ID            9 non-null      float64\n",
            " 1   Name          9 non-null      int64  \n",
            " 2   Age           9 non-null      float64\n",
            " 3   Gender        9 non-null      int64  \n",
            " 4   Salary        9 non-null      float64\n",
            " 5   Joining_Date  9 non-null      int64  \n",
            " 6   Department    9 non-null      int64  \n",
            "dtypes: float64(3), int64(4)\n",
            "memory usage: 576.0 bytes\n",
            "None\n",
            "    ID  Name   Age  Gender   Salary  Joining_Date  Department\n",
            "0  1.0     0  25.0       1  50000.0             4           1\n",
            "1  2.0     1  30.0       3  60000.0             3           2\n",
            "2  3.0     2  29.2       2  70000.0             2           1\n",
            "3  4.0     3  40.0       3  61700.0             5           0\n",
            "4  5.0     4  22.0       1  55000.0             0           2\n",
            "5  6.0     5  35.0       0  72000.0             1           2\n",
            "6  6.0     5  35.0       3  72000.0             1           2\n",
            "7  7.0     6  29.0       0  49000.0             1           1\n",
            "9  9.0     5  31.0       4  57000.0             6           3\n"
          ]
        }
      ]
    },
    {
      "cell_type": "code",
      "source": [
        "df.to_csv(\"cleaned_data.csv\", index=False)\n",
        "print(\"\\nData cleaning completed. Cleaned dataset saved as 'cleaned_data.csv'.\")"
      ],
      "metadata": {
        "colab": {
          "base_uri": "https://localhost:8080/"
        },
        "id": "ABfnox2gyJJG",
        "outputId": "1934bad2-8528-48ce-fcbb-6adf1af44519"
      },
      "execution_count": null,
      "outputs": [
        {
          "output_type": "stream",
          "name": "stdout",
          "text": [
            "\n",
            "Data cleaning completed. Cleaned dataset saved as 'cleaned_data.csv'.\n"
          ]
        }
      ]
    },
    {
      "cell_type": "code",
      "source": [
        "from google.colab import drive\n",
        "drive.mount('/content/drive')"
      ],
      "metadata": {
        "id": "9c8436ity8r-"
      },
      "execution_count": null,
      "outputs": []
    }
  ]
}
