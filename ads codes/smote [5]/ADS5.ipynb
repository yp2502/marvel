{
  "cells": [
    {
      "cell_type": "code",
      "source": [
        "import pandas as pd\n",
        "from collections import Counter\n",
        "from sklearn.model_selection import train_test_split\n",
        "from sklearn.linear_model import LogisticRegression\n",
        "from sklearn.metrics import accuracy_score, confusion_matrix, classification_report\n",
        "from imblearn.over_sampling import SMOTE"
      ],
      "metadata": {
        "id": "8iVENnqspguI"
      },
      "execution_count": 12,
      "outputs": []
    },
    {
      "cell_type": "code",
      "source": [
        "data = pd.read_excel('exp5_Admission_St.xlsx')"
      ],
      "metadata": {
        "id": "twr2kuEEsQph"
      },
      "execution_count": 13,
      "outputs": []
    },
    {
      "cell_type": "code",
      "source": [
        "X = data.drop('Admit', axis=1)\n",
        "y = data['Admit']"
      ],
      "metadata": {
        "id": "OHWU0ZaPsQrf"
      },
      "execution_count": 14,
      "outputs": []
    },
    {
      "cell_type": "code",
      "source": [
        "X_train, X_test, y_train, y_test = train_test_split(X, y, test_size=0.3, random_state=42, stratify=y)"
      ],
      "metadata": {
        "id": "8oINb6i5sU7Y"
      },
      "execution_count": 15,
      "outputs": []
    },
    {
      "cell_type": "code",
      "source": [
        "print(\"Before SMOTE - Train Distribution:\", Counter(y_train))"
      ],
      "metadata": {
        "colab": {
          "base_uri": "https://localhost:8080/"
        },
        "id": "mkjbterJsU9X",
        "outputId": "60f36a53-ca7b-41b7-bbeb-9564c7897996"
      },
      "execution_count": 16,
      "outputs": [
        {
          "output_type": "stream",
          "name": "stdout",
          "text": [
            "Before SMOTE - Train Distribution: Counter({0: 191, 1: 89})\n"
          ]
        }
      ]
    },
    {
      "cell_type": "code",
      "source": [
        "model_before = LogisticRegression()\n",
        "model_before.fit(X_train, y_train)\n",
        "y_pred_before = model_before.predict(X_test)"
      ],
      "metadata": {
        "id": "c1qI53f_sU_W"
      },
      "execution_count": 17,
      "outputs": []
    },
    {
      "cell_type": "code",
      "source": [
        "print(\"\\nBefore SMOTE - Accuracy:\", accuracy_score(y_test, y_pred_before))\n",
        "print(\"Confusion Matrix:\\n\", confusion_matrix(y_test, y_pred_before))\n",
        "print(\"Classification Report:\\n\", classification_report(y_test, y_pred_before))"
      ],
      "metadata": {
        "colab": {
          "base_uri": "https://localhost:8080/"
        },
        "id": "pX0zpS2CtYG_",
        "outputId": "46d67dcf-6f7b-4433-a263-fa4136efa934"
      },
      "execution_count": 18,
      "outputs": [
        {
          "output_type": "stream",
          "name": "stdout",
          "text": [
            "\n",
            "Before SMOTE - Accuracy: 0.6916666666666667\n",
            "Confusion Matrix:\n",
            " [[76  6]\n",
            " [31  7]]\n",
            "Classification Report:\n",
            "               precision    recall  f1-score   support\n",
            "\n",
            "           0       0.71      0.93      0.80        82\n",
            "           1       0.54      0.18      0.27        38\n",
            "\n",
            "    accuracy                           0.69       120\n",
            "   macro avg       0.62      0.56      0.54       120\n",
            "weighted avg       0.66      0.69      0.64       120\n",
            "\n"
          ]
        }
      ]
    },
    {
      "cell_type": "code",
      "source": [
        "smote = SMOTE(random_state=42)\n",
        "X_resampled, y_resampled = smote.fit_resample(X_train, y_train)"
      ],
      "metadata": {
        "id": "NgV6E4bOtYJl"
      },
      "execution_count": 19,
      "outputs": []
    },
    {
      "cell_type": "code",
      "source": [
        "\n",
        "print(\"\\nAfter SMOTE - Train Distribution:\", Counter(y_resampled))"
      ],
      "metadata": {
        "colab": {
          "base_uri": "https://localhost:8080/"
        },
        "id": "Qt_Ei3cCtccr",
        "outputId": "e1234373-2ed1-4bad-9784-29eb1e25701c"
      },
      "execution_count": 20,
      "outputs": [
        {
          "output_type": "stream",
          "name": "stdout",
          "text": [
            "\n",
            "After SMOTE - Train Distribution: Counter({0: 191, 1: 191})\n"
          ]
        }
      ]
    },
    {
      "cell_type": "code",
      "source": [
        "model_after = LogisticRegression()\n",
        "model_after.fit(X_resampled, y_resampled)\n",
        "y_pred_after = model_after.predict(X_test)"
      ],
      "metadata": {
        "id": "cTkT-mLgtchv"
      },
      "execution_count": 21,
      "outputs": []
    },
    {
      "cell_type": "code",
      "source": [
        "print(\"\\nAfter SMOTE - Accuracy:\", accuracy_score(y_test, y_pred_after))\n",
        "print(\"Confusion Matrix:\\n\", confusion_matrix(y_test, y_pred_after))\n",
        "print(\"Classification Report:\\n\", classification_report(y_test, y_pred_after))"
      ],
      "metadata": {
        "colab": {
          "base_uri": "https://localhost:8080/"
        },
        "id": "SzfKEx5itgPM",
        "outputId": "3f6980e7-13f3-4987-b3e6-3cbb1382c6ed"
      },
      "execution_count": 22,
      "outputs": [
        {
          "output_type": "stream",
          "name": "stdout",
          "text": [
            "\n",
            "After SMOTE - Accuracy: 0.6583333333333333\n",
            "Confusion Matrix:\n",
            " [[57 25]\n",
            " [16 22]]\n",
            "Classification Report:\n",
            "               precision    recall  f1-score   support\n",
            "\n",
            "           0       0.78      0.70      0.74        82\n",
            "           1       0.47      0.58      0.52        38\n",
            "\n",
            "    accuracy                           0.66       120\n",
            "   macro avg       0.62      0.64      0.63       120\n",
            "weighted avg       0.68      0.66      0.67       120\n",
            "\n"
          ]
        }
      ]
    }
  ],
  "metadata": {
    "colab": {
      "provenance": []
    },
    "kernelspec": {
      "display_name": "Python 3",
      "name": "python3"
    }
  },
  "nbformat": 4,
  "nbformat_minor": 0
}