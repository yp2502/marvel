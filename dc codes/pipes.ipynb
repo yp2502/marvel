{
  "nbformat": 4,
  "nbformat_minor": 0,
  "metadata": {
    "colab": {
      "provenance": []
    },
    "kernelspec": {
      "name": "python3",
      "display_name": "Python 3"
    },
    "language_info": {
      "name": "python"
    }
  },
  "cells": [
    {
      "cell_type": "code",
      "execution_count": 2,
      "metadata": {
        "colab": {
          "base_uri": "https://localhost:8080/"
        },
        "id": "DiWUIsSlzECA",
        "outputId": "ad4be4d2-c8fc-4fcb-a19d-182804eaa3b8"
      },
      "outputs": [
        {
          "output_type": "stream",
          "name": "stdout",
          "text": [
            "Parent received: Hello from child process!\n"
          ]
        }
      ],
      "source": [
        "import os\n",
        "import multiprocessing\n",
        "\n",
        "def child_process(pipe_write):\n",
        "    os.close(pipe_write[0])  # Close unused read end\n",
        "    message = \"Hello from child process!\"\n",
        "    os.write(pipe_write[1], message.encode())  # Write message to pipe\n",
        "    os.close(pipe_write[1])\n",
        "\n",
        "def parent_process():\n",
        "    pipe_read, pipe_write = os.pipe()  # Create pipe\n",
        "\n",
        "    # Create child process (pass pipe_write as a tuple, not a list)\n",
        "    process = multiprocessing.Process(target=child_process, args=((pipe_read, pipe_write),))\n",
        "    process.start()\n",
        "\n",
        "    os.close(pipe_write)  # Close unused write end\n",
        "\n",
        "    # Read message from child process\n",
        "    message = os.read(pipe_read, 1024).decode()\n",
        "    print(f\"Parent received: {message}\")\n",
        "\n",
        "    os.close(pipe_read)\n",
        "    process.join()\n",
        "\n",
        "if __name__ == \"__main__\":\n",
        "    parent_process()\n"
      ]
    }
  ]
}